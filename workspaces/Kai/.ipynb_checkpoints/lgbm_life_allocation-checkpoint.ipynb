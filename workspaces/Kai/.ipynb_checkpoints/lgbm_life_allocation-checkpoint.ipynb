{
 "cells": [
  {
   "cell_type": "markdown",
   "metadata": {},
   "source": [
    "# LGBM"
   ]
  },
  {
   "cell_type": "code",
   "execution_count": 3,
   "metadata": {},
   "outputs": [
    {
     "name": "stdout",
     "output_type": "stream",
     "text": [
      "Collecting lightgbm\n",
      "\u001b[?25l  Downloading https://files.pythonhosted.org/packages/0b/9d/ddcb2f43aca194987f1a99e27edf41cf9bc39ea750c3371c2a62698c509a/lightgbm-2.3.1-py2.py3-none-manylinux1_x86_64.whl (1.2MB)\n",
      "\u001b[K     |████████████████████████████████| 1.2MB 8.0MB/s eta 0:00:01\n",
      "\u001b[?25hRequirement already satisfied: scipy in /opt/conda/envs/Python36/lib/python3.6/site-packages (from lightgbm) (1.2.0)\n",
      "Requirement already satisfied: scikit-learn in /opt/conda/envs/Python36/lib/python3.6/site-packages (from lightgbm) (0.20.3)\n",
      "Requirement already satisfied: numpy in /opt/conda/envs/Python36/lib/python3.6/site-packages (from lightgbm) (1.15.4)\n",
      "Installing collected packages: lightgbm\n",
      "Successfully installed lightgbm-2.3.1\n"
     ]
    }
   ],
   "source": [
    "# install light gbm\n",
    "!pip install lightgbm"
   ]
  },
  {
   "cell_type": "code",
   "execution_count": 1,
   "metadata": {},
   "outputs": [
    {
     "name": "stderr",
     "output_type": "stream",
     "text": [
      "/Users/kai/anaconda3/envs/dlnn/lib/python3.6/site-packages/lightgbm/__init__.py:46: UserWarning: Starting from version 2.2.1, the library file in distribution wheels for macOS is built by the Apple Clang (Xcode_9.4.1) compiler.\n",
      "This means that in case of installing LightGBM from PyPI via the ``pip install lightgbm`` command, you don't need to install the gcc compiler anymore.\n",
      "Instead of that, you need to install the OpenMP library, which is required for running LightGBM on the system with the Apple Clang compiler.\n",
      "You can install the OpenMP library by the following command: ``brew install libomp``.\n",
      "  \"You can install the OpenMP library by the following command: ``brew install libomp``.\", UserWarning)\n"
     ]
    }
   ],
   "source": [
    "import uuid\n",
    "import lightgbm as lgb\n",
    "import pandas as pd\n",
    "import numpy as np\n",
    "import warnings\n",
    "from sklearn.model_selection import TimeSeriesSplit, RandomizedSearchCV, GridSearchCV\n",
    "from IPython.core.interactiveshell import InteractiveShell\n",
    "import  matplotlib.pyplot as plt\n",
    "\n",
    "%matplotlib inline\n",
    "InteractiveShell.ast_node_interactivity = \"all\"\n",
    "warnings.filterwarnings('ignore')\n",
    "pd.set_option('display.max_columns', None)"
   ]
  },
  {
   "cell_type": "markdown",
   "metadata": {},
   "source": [
    "### Load Data"
   ]
  },
  {
   "cell_type": "code",
   "execution_count": 2,
   "metadata": {
    "scrolled": true
   },
   "outputs": [
    {
     "data": {
      "text/plain": [
       "(1000, 12)"
      ]
     },
     "execution_count": 2,
     "metadata": {},
     "output_type": "execute_result"
    },
    {
     "data": {
      "text/html": [
       "<div>\n",
       "<style scoped>\n",
       "    .dataframe tbody tr th:only-of-type {\n",
       "        vertical-align: middle;\n",
       "    }\n",
       "\n",
       "    .dataframe tbody tr th {\n",
       "        vertical-align: top;\n",
       "    }\n",
       "\n",
       "    .dataframe thead th {\n",
       "        text-align: right;\n",
       "    }\n",
       "</style>\n",
       "<table border=\"1\" class=\"dataframe\">\n",
       "  <thead>\n",
       "    <tr style=\"text-align: right;\">\n",
       "      <th></th>\n",
       "      <th>Unnamed: 0</th>\n",
       "      <th>BIRTH_YEAR</th>\n",
       "      <th>FAMILY_SIZE</th>\n",
       "      <th>NUMBER_OF_DEPENDENT_CHILDREN</th>\n",
       "      <th>XCT_EQ_BUY</th>\n",
       "      <th>INT_LOGIN_WEB</th>\n",
       "      <th>XCT_EQ_SELL</th>\n",
       "      <th>XFER_FUNDS_OUT_LARGE</th>\n",
       "      <th>ACNT_SEC_OPEN_*</th>\n",
       "      <th>XCT_MORTGAGE_NEW</th>\n",
       "      <th>ACNT_SEC_CLOSE_*</th>\n",
       "      <th>home_purchase</th>\n",
       "    </tr>\n",
       "  </thead>\n",
       "  <tbody>\n",
       "    <tr>\n",
       "      <th>0</th>\n",
       "      <td>0</td>\n",
       "      <td>1981</td>\n",
       "      <td>3</td>\n",
       "      <td>1</td>\n",
       "      <td>0</td>\n",
       "      <td>0</td>\n",
       "      <td>1</td>\n",
       "      <td>1</td>\n",
       "      <td>0</td>\n",
       "      <td>1</td>\n",
       "      <td>0</td>\n",
       "      <td>1</td>\n",
       "    </tr>\n",
       "    <tr>\n",
       "      <th>1</th>\n",
       "      <td>2</td>\n",
       "      <td>1934</td>\n",
       "      <td>1</td>\n",
       "      <td>0</td>\n",
       "      <td>0</td>\n",
       "      <td>0</td>\n",
       "      <td>0</td>\n",
       "      <td>0</td>\n",
       "      <td>0</td>\n",
       "      <td>0</td>\n",
       "      <td>0</td>\n",
       "      <td>0</td>\n",
       "    </tr>\n",
       "    <tr>\n",
       "      <th>2</th>\n",
       "      <td>4</td>\n",
       "      <td>1954</td>\n",
       "      <td>2</td>\n",
       "      <td>0</td>\n",
       "      <td>24</td>\n",
       "      <td>26</td>\n",
       "      <td>6</td>\n",
       "      <td>0</td>\n",
       "      <td>2</td>\n",
       "      <td>0</td>\n",
       "      <td>0</td>\n",
       "      <td>0</td>\n",
       "    </tr>\n",
       "    <tr>\n",
       "      <th>3</th>\n",
       "      <td>6</td>\n",
       "      <td>1950</td>\n",
       "      <td>2</td>\n",
       "      <td>0</td>\n",
       "      <td>0</td>\n",
       "      <td>0</td>\n",
       "      <td>0</td>\n",
       "      <td>0</td>\n",
       "      <td>0</td>\n",
       "      <td>0</td>\n",
       "      <td>0</td>\n",
       "      <td>0</td>\n",
       "    </tr>\n",
       "    <tr>\n",
       "      <th>4</th>\n",
       "      <td>8</td>\n",
       "      <td>1975</td>\n",
       "      <td>4</td>\n",
       "      <td>2</td>\n",
       "      <td>0</td>\n",
       "      <td>0</td>\n",
       "      <td>1</td>\n",
       "      <td>1</td>\n",
       "      <td>0</td>\n",
       "      <td>1</td>\n",
       "      <td>0</td>\n",
       "      <td>1</td>\n",
       "    </tr>\n",
       "  </tbody>\n",
       "</table>\n",
       "</div>"
      ],
      "text/plain": [
       "   Unnamed: 0  BIRTH_YEAR  FAMILY_SIZE  NUMBER_OF_DEPENDENT_CHILDREN  \\\n",
       "0           0        1981            3                             1   \n",
       "1           2        1934            1                             0   \n",
       "2           4        1954            2                             0   \n",
       "3           6        1950            2                             0   \n",
       "4           8        1975            4                             2   \n",
       "\n",
       "   XCT_EQ_BUY  INT_LOGIN_WEB  XCT_EQ_SELL  XFER_FUNDS_OUT_LARGE  \\\n",
       "0           0              0            1                     1   \n",
       "1           0              0            0                     0   \n",
       "2          24             26            6                     0   \n",
       "3           0              0            0                     0   \n",
       "4           0              0            1                     1   \n",
       "\n",
       "   ACNT_SEC_OPEN_*  XCT_MORTGAGE_NEW  ACNT_SEC_CLOSE_*  home_purchase  \n",
       "0                0                 1                 0              1  \n",
       "1                0                 0                 0              0  \n",
       "2                2                 0                 0              0  \n",
       "3                0                 0                 0              0  \n",
       "4                0                 1                 0              1  "
      ]
     },
     "execution_count": 2,
     "metadata": {},
     "output_type": "execute_result"
    }
   ],
   "source": [
    "df = pd.read_csv('../../assets/dataset/home_db.csv', index_col=None)\n",
    "df.shape\n",
    "df.head()"
   ]
  },
  {
   "cell_type": "markdown",
   "metadata": {},
   "source": [
    "## Train/Test Set\n",
    "* get hold-out set\n",
    "* build X,y set"
   ]
  },
  {
   "cell_type": "code",
   "execution_count": 3,
   "metadata": {},
   "outputs": [],
   "source": [
    "import numpy as np\n",
    "from sklearn.model_selection import train_test_split"
   ]
  },
  {
   "cell_type": "code",
   "execution_count": 4,
   "metadata": {},
   "outputs": [],
   "source": [
    "# X,y\n",
    "y = df.loc[:,'home_purchase']\n",
    "X = df.loc[:,:'ACNT_SEC_CLOSE_*']\n",
    "X_train, X_test, y_train, y_test = train_test_split(X, y, test_size=0.30, random_state=42)"
   ]
  },
  {
   "cell_type": "markdown",
   "metadata": {},
   "source": [
    "### HPO"
   ]
  },
  {
   "cell_type": "code",
   "execution_count": 10,
   "metadata": {
    "scrolled": false
   },
   "outputs": [
    {
     "name": "stdout",
     "output_type": "stream",
     "text": [
      "Fitting 3 folds for each of 10000 candidates, totalling 30000 fits\n"
     ]
    },
    {
     "name": "stderr",
     "output_type": "stream",
     "text": [
      "[Parallel(n_jobs=-1)]: Using backend LokyBackend with 12 concurrent workers.\n",
      "[Parallel(n_jobs=-1)]: Done   8 tasks      | elapsed:    0.1s\n",
      "[Parallel(n_jobs=-1)]: Done 1464 tasks      | elapsed:    4.7s\n",
      "[Parallel(n_jobs=-1)]: Done 4344 tasks      | elapsed:   15.6s\n",
      "[Parallel(n_jobs=-1)]: Done 6534 tasks      | elapsed:   26.3s\n",
      "[Parallel(n_jobs=-1)]: Done 7686 tasks      | elapsed:   31.7s\n",
      "[Parallel(n_jobs=-1)]: Done 9094 tasks      | elapsed:   39.1s\n",
      "[Parallel(n_jobs=-1)]: Done 10758 tasks      | elapsed:   46.5s\n",
      "[Parallel(n_jobs=-1)]: Done 12678 tasks      | elapsed:   56.9s\n",
      "[Parallel(n_jobs=-1)]: Done 14854 tasks      | elapsed:  1.1min\n",
      "[Parallel(n_jobs=-1)]: Done 17286 tasks      | elapsed:  1.3min\n",
      "[Parallel(n_jobs=-1)]: Done 19974 tasks      | elapsed:  1.6min\n",
      "[Parallel(n_jobs=-1)]: Done 22918 tasks      | elapsed:  1.9min\n",
      "[Parallel(n_jobs=-1)]: Done 26118 tasks      | elapsed:  2.2min\n",
      "[Parallel(n_jobs=-1)]: Done 29574 tasks      | elapsed:  2.5min\n",
      "[Parallel(n_jobs=-1)]: Done 30000 out of 30000 | elapsed:  2.6min finished\n"
     ]
    },
    {
     "data": {
      "text/plain": [
       "RandomizedSearchCV(cv=3, error_score='raise-deprecating',\n",
       "                   estimator=LGBMClassifier(boosting_type='dart',\n",
       "                                            class_weight=None,\n",
       "                                            colsample_bytree=1.0,\n",
       "                                            importance_type='split',\n",
       "                                            learning_rate=0.1, max_bin=512,\n",
       "                                            max_depth=-1, min_child_samples=10,\n",
       "                                            min_child_weight=1,\n",
       "                                            min_split_gain=0.5,\n",
       "                                            n_estimators=100, n_jobs=0,\n",
       "                                            num_leaves=31, objective='binary',\n",
       "                                            random_state=None, reg_al...\n",
       "       0.57758621, 0.59310345, 0.60862069, 0.62413793, 0.63965517,\n",
       "       0.65517241, 0.67068966, 0.6862069 , 0.70172414, 0.71724138,\n",
       "       0.73275862, 0.74827586, 0.7637931 , 0.77931034, 0.79482759,\n",
       "       0.81034483, 0.82586207, 0.84137931, 0.85689655, 0.87241379,\n",
       "       0.88793103, 0.90344828, 0.91896552, 0.93448276, 0.95      ])},\n",
       "                   pre_dispatch='2*n_jobs', random_state=None, refit=True,\n",
       "                   return_train_score=False, scoring='accuracy', verbose=3)"
      ]
     },
     "execution_count": 10,
     "metadata": {},
     "output_type": "execute_result"
    },
    {
     "name": "stdout",
     "output_type": "stream",
     "text": [
      "> HPO task finished ...\n"
     ]
    }
   ],
   "source": [
    "params = {'boosting_type': 'gbdt',\n",
    "          'max_depth' : -1,\n",
    "          'objective': 'binary',\n",
    "          'nthread': 0,\n",
    "          'num_leaves': 64,\n",
    "          'learning_rate': 0.05,\n",
    "          'max_bin': 512,\n",
    "          'subsample_for_bin': 200,\n",
    "          'subsample': 1,\n",
    "          'subsample_freq': 1,\n",
    "          'colsample_bytree': 0.8,\n",
    "          'reg_alpha': 5,\n",
    "          'reg_lambda': 10,\n",
    "          'min_split_gain': 0.5,\n",
    "          'min_child_weight': 1,\n",
    "          'min_child_samples': 10,\n",
    "          'scale_pos_weight': 1-sum(y_train)/len(y_train),\n",
    "          'num_class' : 1}\n",
    "\n",
    "gbm = lgb.LGBMClassifier(boosting_type= 'dart',\n",
    "                         objective = 'binary',\n",
    "                         n_jobs = 0, # Updated from 'nthread'\n",
    "                         silent = True,\n",
    "                         max_depth = params['max_depth'],\n",
    "                         max_bin = params['max_bin'],\n",
    "                         subsample_for_bin = params['subsample_for_bin'],\n",
    "                         subsample = params['subsample'],\n",
    "                         subsample_freq = params['subsample_freq'],\n",
    "                         min_split_gain = params['min_split_gain'],\n",
    "                         min_child_weight = params['min_child_weight'],\n",
    "                         min_child_samples = params['min_child_samples'])\n",
    "\n",
    "# search space\n",
    "\n",
    "params_dist = {\n",
    "            'learning_rate': np.linspace(0.001,.5,30),\n",
    "            'n_estimators': np.linspace(20,400,50).astype('int32'),\n",
    "            'num_leaves': np.linspace(2,200,100).astype('int32'),\n",
    "            'bagging_freq': np.linspace(1,20,5).astype('int32'),\n",
    "            'bagging_fraction': np.linspace(0.3,0.95,5),\n",
    "            'colsample_bytree' :  np.linspace(0.6,0.95,30),\n",
    "            'min_split_gain': np.linspace(30,100,30),\n",
    "            'min_child_weight': np.linspace(1e-5,1e-2,30),\n",
    "            'min_child_samples': np.linspace(50,200,50).astype('int32'),\n",
    "            'subsample' :  np.linspace(0.5,0.95,30),\n",
    "            'reg_alpha' :  np.linspace(0.1,20,50),\n",
    "            'reg_lambda' : np.linspace(0.1,20,50),\n",
    "            }\n",
    "\n",
    "# k\n",
    "folds = 3\n",
    "param_comb = 10000\n",
    "\n",
    "\n",
    "random_search = RandomizedSearchCV(gbm, \n",
    "                                   param_distributions=params_dist, \n",
    "                                   n_iter=param_comb, \n",
    "                                   scoring='accuracy', \n",
    "                                   n_jobs=-1, \n",
    "                                   cv=folds, \n",
    "                                   verbose=3)\n",
    "\n",
    "# start random search\n",
    "random_search.fit(X_train, y_train)\n",
    "\n",
    "print('> HPO task finished ...')"
   ]
  },
  {
   "cell_type": "markdown",
   "metadata": {},
   "source": [
    "## Metrics"
   ]
  },
  {
   "cell_type": "code",
   "execution_count": 11,
   "metadata": {},
   "outputs": [
    {
     "data": {
      "text/plain": [
       "array([1, 1, 1, 0, 0, 1, 1, 1, 0, 0, 0, 1, 1, 1, 1, 1, 1, 1, 1, 1, 0, 1,\n",
       "       0, 1, 1, 0, 1, 0, 1, 0, 1, 1, 1, 0, 1, 0, 0, 1, 1, 1, 0, 0, 1, 0,\n",
       "       1, 0, 1, 1, 0, 1, 1, 1, 0, 0, 1, 0, 0, 1, 0, 0, 1, 1, 1, 0, 0, 0,\n",
       "       1, 0, 1, 0, 1, 0, 0, 0, 1, 1, 0, 0, 0, 1, 1, 0, 1, 0, 0, 1, 1, 1,\n",
       "       1, 1, 1, 0, 1, 1, 0, 1, 1, 0, 0, 0, 0, 1, 1, 1, 1, 1, 1, 1, 1, 1,\n",
       "       1, 1, 1, 0, 1, 0, 1, 1, 1, 0, 0, 1, 1, 0, 1, 0, 1, 0, 0, 1, 0, 0,\n",
       "       1, 1, 0, 1, 1, 0, 0, 0, 0, 0, 1, 1, 1, 1, 1, 1, 0, 1, 1, 0, 0, 0,\n",
       "       0, 1, 0, 1, 0, 1, 1, 0, 1, 0, 1, 0, 1, 1, 1, 0, 0, 1, 1, 0, 1, 0,\n",
       "       1, 0, 1, 1, 0, 0, 1, 0, 1, 0, 0, 0, 1, 1, 0, 0, 0, 0, 0, 0, 0, 1,\n",
       "       1, 1, 1, 0, 0, 1, 1, 1, 1, 1, 0, 1, 0, 1, 1, 1, 0, 1, 0, 0, 1, 0,\n",
       "       1, 0, 0, 1, 1, 0, 0, 1, 0, 1, 1, 1, 0, 1, 0, 1, 0, 1, 1, 1, 0, 1,\n",
       "       1, 0, 0, 0, 1, 0, 0, 0, 1, 0, 1, 1, 1, 1, 0, 1, 1, 0, 0, 0, 1, 0,\n",
       "       0, 0, 0, 0, 0, 1, 1, 1, 1, 0, 1, 1, 1, 1, 1, 1, 1, 0, 0, 1, 1, 0,\n",
       "       0, 1, 1, 0, 1, 0, 1, 0, 0, 0, 1, 1, 0, 1])"
      ]
     },
     "execution_count": 11,
     "metadata": {},
     "output_type": "execute_result"
    }
   ],
   "source": [
    "model = random_search.best_estimator_\n",
    "model.predict(X_test)"
   ]
  },
  {
   "cell_type": "code",
   "execution_count": 15,
   "metadata": {},
   "outputs": [],
   "source": [
    "import pickle\n",
    "pickle.dump(model, open(\"home_purchase.pkl\", \"wb\"))"
   ]
  },
  {
   "cell_type": "code",
   "execution_count": 16,
   "metadata": {},
   "outputs": [
    {
     "data": {
      "text/plain": [
       "'\\n\"\\n\" plot roc curve\\n\"\\n'"
      ]
     },
     "execution_count": 16,
     "metadata": {},
     "output_type": "execute_result"
    },
    {
     "data": {
      "image/png": "[encoded data removed]",
      "text/plain": [
       "<Figure size 432x288 with 1 Axes>"
      ]
     },
     "metadata": {
      "needs_background": "light"
     },
     "output_type": "display_data"
    }
   ],
   "source": [
    "import matplotlib.pyplot as plt\n",
    "from sklearn.metrics import roc_curve, roc_auc_score, precision_recall_curve, average_precision_score\n",
    "\n",
    "\"\"\"\n",
    "\"\n",
    "\" plot roc curve\n",
    "\"\n",
    "\"\"\"\n",
    "def plot_roc_curve(y, y_score):\n",
    "    \"\"\"\n",
    "    @param::y: vector ndarray of ground truth label y\n",
    "    @param::y_score: vector ndarray of predicted logit y_score\n",
    "    @param::model: the model name\n",
    "    @return: None\n",
    "    \"\"\"\n",
    "    fpr,tpr, _ = roc_curve(y, y_score)\n",
    "    score = roc_auc_score(y, y_score)\n",
    "    \n",
    "    y = tpr\n",
    "    x = fpr\n",
    "    plt.plot([0, 1], [0, 1], 'k--')\n",
    "    plt.plot(fpr, tpr, 'b-', label=model)\n",
    "    plt.xlabel('false positive rate')\n",
    "    plt.ylabel('true positive rate')\n",
    "    plt.title('%s Model ROC Curve: AUC=%0.2f'%(model,score))\n",
    "    #plt.legend(loc='best')\n",
    "    plt.grid()\n",
    "    plt.show()\n",
    "    \n",
    "y_score = model.predict_proba(X_test)[:,1]\n",
    "plot_roc_curve(y_test, y_score)"
   ]
  },
  {
   "cell_type": "code",
   "execution_count": null,
   "metadata": {},
   "outputs": [],
   "source": []
  }
 ],
 "metadata": {
  "kernelspec": {
   "display_name": "Python 3",
   "language": "python",
   "name": "python3"
  },
  "language_info": {
   "codemirror_mode": {
    "name": "ipython",
    "version": 3
   },
   "file_extension": ".py",
   "mimetype": "text/x-python",
   "name": "python",
   "nbconvert_exporter": "python",
   "pygments_lexer": "ipython3",
   "version": "3.6.8"
  }
 },
 "nbformat": 4,
 "nbformat_minor": 1
}
