{
 "cells": [
  {
   "cell_type": "markdown",
   "metadata": {},
   "source": [
    "# Deploy Model Online"
   ]
  },
  {
   "cell_type": "code",
   "execution_count": 1,
   "metadata": {},
   "outputs": [],
   "source": [
    "import pickle\n",
    "import boto3"
   ]
  },
  {
   "cell_type": "code",
   "execution_count": 2,
   "metadata": {},
   "outputs": [],
   "source": [
    "# Upload the model to aws bucket\n",
    "\n",
    "s3 = boto3.client(\"s3\")\n",
    "s3.upload_file(\"home_purchase.pkl\", \"cortex-ee16ff5ab7\", \"home_purchase.pkl\")"
   ]
  },
  {
   "cell_type": "markdown",
   "metadata": {},
   "source": [
    "## Write Predictor Class"
   ]
  },
  {
   "cell_type": "code",
   "execution_count": 37,
   "metadata": {},
   "outputs": [
    {
     "name": "stdout",
     "output_type": "stream",
     "text": [
      "Overwriting predictor.py\n"
     ]
    }
   ],
   "source": [
    "%%writefile predictor.py\n",
    "\n",
    "import os\n",
    "import pickle\n",
    "\n",
    "labels = [\"False\", \"True\"]\n",
    "\n",
    "\n",
    "class PythonPredictor:\n",
    "    def __init__(self, config):\n",
    "        \"\"\"\n",
    "        if os.environ.get(\"AWS_ACCESS_KEY_ID\"):\n",
    "            s3 = boto3.client(\"s3\")  # client will use your credentials if available\n",
    "        else:\n",
    "            s3 = boto3.client(\"s3\", config=Config(signature_version=UNSIGNED))  # anonymous client\n",
    "\n",
    "        s3.download_file(config[\"bucket\"], config[\"key\"], \"/tmp/model.pkl\")\n",
    "        \"\"\"\n",
    "        self.model = pickle.load(open(\"home_purchase.pkl\", \"rb\"))\n",
    "\n",
    "    def predict(self, payload):\n",
    "   \n",
    "        label_id = self.model.predict([payload['data']])[0]\n",
    "        return labels[label_id]"
   ]
  },
  {
   "cell_type": "code",
   "execution_count": 4,
   "metadata": {},
   "outputs": [],
   "source": [
    "import pandas as pd\n",
    "from sklearn.model_selection import train_test_split\n",
    "\n",
    "df = pd.read_csv('../../assets/dataset/home_db.csv', index_col=None)\n",
    "df.shape\n",
    "df.head()\n",
    "\n",
    "y = df.loc[:,'home_purchase']\n",
    "X = df.loc[:,:'ACNT_SEC_CLOSE_*']\n",
    "X_train, X_test, y_train, y_test = train_test_split(X, y, test_size=0.30, random_state=42)"
   ]
  },
  {
   "cell_type": "code",
   "execution_count": 11,
   "metadata": {},
   "outputs": [
    {
     "data": {
      "text/plain": [
       "array([1])"
      ]
     },
     "execution_count": 11,
     "metadata": {},
     "output_type": "execute_result"
    }
   ],
   "source": [
    "# test predictor\n",
    "payload = {'data': list(X_test.iloc[0].values)}\n",
    "rf = PythonPredictor(None).model\n",
    "rf.predict([payload['data']])"
   ]
  },
  {
   "cell_type": "markdown",
   "metadata": {},
   "source": [
    "## Deployment Configuration"
   ]
  },
  {
   "cell_type": "code",
   "execution_count": 18,
   "metadata": {
    "scrolled": true
   },
   "outputs": [
    {
     "name": "stdout",
     "output_type": "stream",
     "text": [
      "Writing cortex.yaml\n"
     ]
    }
   ],
   "source": [
    "%%writefile cortex.yaml\n",
    "- name: home-purchase-model\n",
    "  kind: RealtimeAPI\n",
    "  predictor:\n",
    "    type: python\n",
    "    path: predictor.py\n",
    "    config:\n",
    "      bucket: cortex-ee16ff5ab7\n",
    "      key: dev/lgbm_model.pkl"
   ]
  },
  {
   "cell_type": "markdown",
   "metadata": {},
   "source": [
    "## Deployment Requirements"
   ]
  },
  {
   "cell_type": "code",
   "execution_count": 19,
   "metadata": {},
   "outputs": [
    {
     "name": "stdout",
     "output_type": "stream",
     "text": [
      "Writing requirements.txt\n"
     ]
    }
   ],
   "source": [
    "%%writefile requirements.txt\n",
    "pandas\n",
    "scikit-learn\n",
    "lightgbm"
   ]
  },
  {
   "cell_type": "markdown",
   "metadata": {},
   "source": [
    "## Deploy Model\n",
    "deploy the model in terminal"
   ]
  },
  {
   "cell_type": "code",
   "execution_count": 12,
   "metadata": {},
   "outputs": [],
   "source": [
    "# !cortex deploy\n",
    "# !cortex get \n",
    "# !cortex get recommender"
   ]
  },
  {
   "cell_type": "markdown",
   "metadata": {},
   "source": [
    "## Query Deployed Model"
   ]
  },
  {
   "cell_type": "markdown",
   "metadata": {},
   "source": [
    "### 1. Request"
   ]
  },
  {
   "cell_type": "code",
   "execution_count": 45,
   "metadata": {},
   "outputs": [
    {
     "name": "stdout",
     "output_type": "stream",
     "text": [
      "True\n",
      "True\n",
      "True\n",
      "False\n",
      "False\n",
      "True\n",
      "True\n",
      "True\n",
      "False\n",
      "False\n"
     ]
    }
   ],
   "source": [
    "import requests \n",
    "  \n",
    "# api-endpoint \n",
    "URL = \"http://localhost:8888\"\n",
    "\n",
    "# send some queries\n",
    "headers = {\"Content-Type\":\"application/json\"}\n",
    "for i in range(10):\n",
    "    p = {\"data\": [int(val) for val in X_test.iloc[i].values]}\n",
    "    r = requests.post(url = URL, data = json.dumps(p), headers=headers)  \n",
    "    print(r.text)"
   ]
  },
  {
   "cell_type": "markdown",
   "metadata": {},
   "source": [
    "### 2. curl"
   ]
  },
  {
   "cell_type": "code",
   "execution_count": 17,
   "metadata": {},
   "outputs": [
    {
     "data": {
      "text/plain": [
       "{'data': [1968, 4, 2, 0, 0, 0, 1, 0, 1, 0]}"
      ]
     },
     "execution_count": 17,
     "metadata": {},
     "output_type": "execute_result"
    }
   ],
   "source": [
    "payload"
   ]
  },
  {
   "cell_type": "code",
   "execution_count": 18,
   "metadata": {},
   "outputs": [
    {
     "name": "stdout",
     "output_type": "stream",
     "text": [
      "Overwriting sample.json\n"
     ]
    }
   ],
   "source": [
    "%%writefile sample.json\n",
    "{\"data\": [1968, 4, 2, 0, 0, 0, 1, 0, 1, 0]}"
   ]
  },
  {
   "cell_type": "code",
   "execution_count": 30,
   "metadata": {},
   "outputs": [
    {
     "name": "stdout",
     "output_type": "stream",
     "text": [
      "False"
     ]
    }
   ],
   "source": [
    "!curl http://localhost:8888 -X POST -H \"Content-Type: application/json\" -d @sample.json"
   ]
  },
  {
   "cell_type": "code",
   "execution_count": 55,
   "metadata": {},
   "outputs": [
    {
     "name": "stdout",
     "output_type": "stream",
     "text": [
      "True"
     ]
    }
   ],
   "source": [
    "!curl https://t0erni03x7.execute-api.us-west-1.amazonaws.com/gamification-model -X POST -H \"Content-Type: application/json\" -d @sample.json"
   ]
  },
  {
   "cell_type": "code",
   "execution_count": null,
   "metadata": {},
   "outputs": [],
   "source": []
  }
 ],
 "metadata": {
  "kernelspec": {
   "display_name": "Python 3",
   "language": "python",
   "name": "python3"
  },
  "language_info": {
   "codemirror_mode": {
    "name": "ipython",
    "version": 3
   },
   "file_extension": ".py",
   "mimetype": "text/x-python",
   "name": "python",
   "nbconvert_exporter": "python",
   "pygments_lexer": "ipython3",
   "version": "3.6.8"
  }
 },
 "nbformat": 4,
 "nbformat_minor": 2
}
