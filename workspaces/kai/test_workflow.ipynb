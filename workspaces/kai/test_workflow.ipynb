{
  "nbformat": 4,
  "nbformat_minor": 0,
  "metadata": {
    "colab": {
      "name": "test_workflow.ipynb",
      "provenance": [],
      "authorship_tag": "ABX9TyPgrlNc2XIXI9js+BfMboMn",
      "include_colab_link": true
    },
    "kernelspec": {
      "name": "python3",
      "display_name": "Python 3"
    }
  },
  "cells": [
    {
      "cell_type": "markdown",
      "metadata": {
        "id": "view-in-github",
        "colab_type": "text"
      },
      "source": [
        "<a href=\"https://colab.research.google.com/github/kai-niu/league-of-opensource/blob/main/workspaces/kai/test_workflow.ipynb\" target=\"_parent\"><img src=\"https://colab.research.google.com/assets/colab-badge.svg\" alt=\"Open In Colab\"/></a>"
      ]
    },
    {
      "cell_type": "markdown",
      "metadata": {
        "id": "2ZGkb6Tpq1kc"
      },
      "source": [
        "# Test the Work Flow"
      ]
    },
    {
      "cell_type": "code",
      "metadata": {
        "id": "DDKFlb53qYyB"
      },
      "source": [
        "import numpy as np\n",
        "import sklearn"
      ],
      "execution_count": 7,
      "outputs": []
    },
    {
      "cell_type": "code",
      "metadata": {
        "id": "zIeRWqhjqrMF"
      },
      "source": [
        ""
      ],
      "execution_count": null,
      "outputs": []
    }
  ]
}