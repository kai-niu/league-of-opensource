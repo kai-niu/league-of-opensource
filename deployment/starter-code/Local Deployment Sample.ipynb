{
 "cells": [
  {
   "cell_type": "markdown",
   "metadata": {},
   "source": [
    "# build toy model and save it to pickle"
   ]
  },
  {
   "cell_type": "code",
   "execution_count": 3,
   "metadata": {},
   "outputs": [
    {
     "name": "stdout",
     "output_type": "stream",
     "text": [
      "accuracy: 0.95\n"
     ]
    }
   ],
   "source": [
    "import pickle\n",
    "import boto3\n",
    "\n",
    "from sklearn.datasets import load_iris\n",
    "from sklearn.model_selection import train_test_split\n",
    "from sklearn.linear_model import LogisticRegression\n",
    "\n",
    "# Train the model\n",
    "\n",
    "iris = load_iris()\n",
    "data, labels = iris.data, iris.target\n",
    "training_data, test_data, training_labels, test_labels = train_test_split(data, labels)\n",
    "\n",
    "model = LogisticRegression(solver=\"lbfgs\", multi_class=\"multinomial\")\n",
    "model.fit(training_data, training_labels)\n",
    "accuracy = model.score(test_data, test_labels)\n",
    "print(\"accuracy: {:.2f}\".format(accuracy))\n",
    "\n",
    "# Upload the model\n",
    "\n",
    "pickle.dump(model, open(\"toy_model.pkl\", \"wb\"))\n",
    "s3 = boto3.client(\"s3\")\n",
    "s3.upload_file(\"toy_model.pkl\", \"cortex-ee16ff5ab7\", \"dev/toy_model.pkl\")"
   ]
  },
  {
   "cell_type": "code",
   "execution_count": 43,
   "metadata": {},
   "outputs": [],
   "source": [
    "s3.upload_file(\"lgbm_model.pkl\", \"cortex-ee16ff5ab7\", \"dev/lgbm_model.pkl\")"
   ]
  },
  {
   "cell_type": "markdown",
   "metadata": {},
   "source": [
    "## Write Predictor Class"
   ]
  },
  {
   "cell_type": "code",
   "execution_count": 42,
   "metadata": {},
   "outputs": [
    {
     "name": "stdout",
     "output_type": "stream",
     "text": [
      "Overwriting predictor.py\n"
     ]
    }
   ],
   "source": [
    "%%writefile predictor.py\n",
    "\n",
    "import os\n",
    "import pickle\n",
    "\n",
    "labels = [\"True\", \"False\"]\n",
    "\n",
    "\n",
    "class PythonPredictor:\n",
    "    def __init__(self, config):\n",
    "        \"\"\"\n",
    "        if os.environ.get(\"AWS_ACCESS_KEY_ID\"):\n",
    "            s3 = boto3.client(\"s3\")  # client will use your credentials if available\n",
    "        else:\n",
    "            s3 = boto3.client(\"s3\", config=Config(signature_version=UNSIGNED))  # anonymous client\n",
    "\n",
    "        s3.download_file(config[\"bucket\"], config[\"key\"], \"/tmp/model.pkl\")\n",
    "        \"\"\"\n",
    "        self.model = pickle.load(open(\"lgbm_model.pkl\", \"rb\"))\n",
    "\n",
    "    def predict(self, payload):\n",
    "   \n",
    "        label_id = self.model.predict([payload['data']])[0]\n",
    "        return labels[label_id]"
   ]
  },
  {
   "cell_type": "code",
   "execution_count": 33,
   "metadata": {},
   "outputs": [],
   "source": [
    "import pandas as pd\n",
    "\n",
    "df = pd.read_csv('../../assets/dataset/home_db.csv', index_col=None)\n",
    "df.shape\n",
    "df.head()\n",
    "\n",
    "y = df.loc[:,'home_purchase']\n",
    "X = df.loc[:,:'YOUNGEST_DEPENDENT_CHILD_BIRTH_YEAR']\n",
    "X_train, X_test, y_train, y_test = train_test_split(X, y, test_size=0.30, random_state=42)"
   ]
  },
  {
   "cell_type": "code",
   "execution_count": 41,
   "metadata": {},
   "outputs": [
    {
     "data": {
      "text/plain": [
       "array([False])"
      ]
     },
     "execution_count": 41,
     "metadata": {},
     "output_type": "execute_result"
    }
   ],
   "source": [
    "payload = {'data': list(X_test.loc[0].values)}\n",
    "rf = PythonPredictor(None).model\n",
    "rf.predict([payload['data']])"
   ]
  },
  {
   "cell_type": "markdown",
   "metadata": {},
   "source": [
    "## Deployment Configuration"
   ]
  },
  {
   "cell_type": "code",
   "execution_count": 44,
   "metadata": {
    "scrolled": true
   },
   "outputs": [
    {
     "name": "stdout",
     "output_type": "stream",
     "text": [
      "Overwriting cortex.yaml\n"
     ]
    }
   ],
   "source": [
    "%%writefile cortex.yaml\n",
    "- name: gamification-model\n",
    "  kind: RealtimeAPI\n",
    "  predictor:\n",
    "    type: python\n",
    "    path: predictor.py\n",
    "    config:\n",
    "      bucket: cortex-ee16ff5ab7\n",
    "      key: dev/lgbm_model.pkl"
   ]
  },
  {
   "cell_type": "markdown",
   "metadata": {},
   "source": [
    "## Deployment Requirements"
   ]
  },
  {
   "cell_type": "code",
   "execution_count": 46,
   "metadata": {},
   "outputs": [
    {
     "name": "stdout",
     "output_type": "stream",
     "text": [
      "Overwriting requirements.txt\n"
     ]
    }
   ],
   "source": [
    "%%writefile requirements.txt\n",
    "pandas\n",
    "scikit-learn\n",
    "lightgbm"
   ]
  },
  {
   "cell_type": "markdown",
   "metadata": {},
   "source": [
    "## Sample Query Payload"
   ]
  },
  {
   "cell_type": "code",
   "execution_count": 52,
   "metadata": {},
   "outputs": [
    {
     "data": {
      "text/plain": [
       "'{\"data\": [0.0, 55.02699309780146, 325000.0, 1981.0, 676.9948191352805, 0.193144071416786, 1000.0, NaN, 1.0, 3.0, 1000.0, 68387.0, NaN, NaN, 83197.0, NaN, NaN, NaN, NaN, NaN, NaN, NaN, NaN, NaN, NaN, NaN, NaN, NaN, 4650.0, 16249.999999999998, 0.0, 1.0, NaN, NaN, NaN, NaN, 1015.0, NaN, 501.56916060815, 138826.0, 67.0, 84892.0, 119167.0, NaN, NaN, NaN, NaN, NaN, NaN, NaN, NaN, NaN, NaN, NaN, NaN, NaN, NaN, NaN, NaN, NaN, NaN, NaN, NaN, NaN, NaN, NaN, NaN, NaN, NaN, 21.0, NaN, NaN]}'"
      ]
     },
     "execution_count": 52,
     "metadata": {},
     "output_type": "execute_result"
    }
   ],
   "source": [
    "import json\n",
    "json.dumps(payload)"
   ]
  },
  {
   "cell_type": "code",
   "execution_count": 53,
   "metadata": {},
   "outputs": [
    {
     "name": "stdout",
     "output_type": "stream",
     "text": [
      "Overwriting sample.json\n"
     ]
    }
   ],
   "source": [
    "%%writefile sample.json\n",
    "{\"data\": [0.0, 55.02699309780146, 325000.0, 1981.0, 676.9948191352805, 0.193144071416786, 1000.0, NaN, 1.0, 3.0, 1000.0, 68387.0, NaN, NaN, 83197.0, NaN, NaN, NaN, NaN, NaN, NaN, NaN, NaN, NaN, NaN, NaN, NaN, NaN, 4650.0, 16249.999999999998, 0.0, 1.0, NaN, NaN, NaN, NaN, 1015.0, NaN, 501.56916060815, 138826.0, 67.0, 84892.0, 119167.0, NaN, NaN, NaN, NaN, NaN, NaN, NaN, NaN, NaN, NaN, NaN, NaN, NaN, NaN, NaN, NaN, NaN, NaN, NaN, NaN, NaN, NaN, NaN, NaN, NaN, NaN, 21.0, NaN, NaN]}"
   ]
  },
  {
   "cell_type": "markdown",
   "metadata": {},
   "source": [
    "## Deploy Model\n",
    "deploy the model in terminal"
   ]
  },
  {
   "cell_type": "code",
   "execution_count": 12,
   "metadata": {},
   "outputs": [],
   "source": [
    "# !cortex deploy\n",
    "# !cortex get \n",
    "# !cortex get recommender"
   ]
  },
  {
   "cell_type": "markdown",
   "metadata": {},
   "source": [
    "## Query Deployed Model"
   ]
  },
  {
   "cell_type": "code",
   "execution_count": 55,
   "metadata": {},
   "outputs": [
    {
     "name": "stdout",
     "output_type": "stream",
     "text": [
      "True"
     ]
    }
   ],
   "source": [
    "!curl https://t0erni03x7.execute-api.us-west-1.amazonaws.com/gamification-model -X POST -H \"Content-Type: application/json\" -d @sample.json"
   ]
  },
  {
   "cell_type": "code",
   "execution_count": null,
   "metadata": {},
   "outputs": [],
   "source": []
  }
 ],
 "metadata": {
  "kernelspec": {
   "display_name": "Python 3",
   "language": "python",
   "name": "python3"
  },
  "language_info": {
   "codemirror_mode": {
    "name": "ipython",
    "version": 3
   },
   "file_extension": ".py",
   "mimetype": "text/x-python",
   "name": "python",
   "nbconvert_exporter": "python",
   "pygments_lexer": "ipython3",
   "version": "3.6.8"
  }
 },
 "nbformat": 4,
 "nbformat_minor": 2
}
